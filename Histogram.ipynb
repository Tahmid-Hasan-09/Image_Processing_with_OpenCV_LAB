{
 "cells": [
  {
   "cell_type": "code",
   "execution_count": null,
   "id": "1da90b19",
   "metadata": {},
   "outputs": [],
   "source": [
    "import numpy as np\n",
    "import cv2\n",
    "import matplotlib.pyplot as plt\n",
    "%matplotlib inline"
   ]
  },
  {
   "cell_type": "code",
   "execution_count": null,
   "id": "f0f52a04",
   "metadata": {},
   "outputs": [],
   "source": [
    "img = img=cv2.imread('./images/flemingo.jpg')\n",
    "#img = np.zeros((200,200),np.uint8)\n",
    "#cv2.rectangle(img, (0,100), (200,200),(255,0,0),-1)\n",
    "#cv2.rectangle(img,(0,50),(100,100),(127,0,0),-1) \n",
    "b,g,r = cv2.split(img)\n",
    "\n",
    "hist = cv2.calcHist([img],[0],None,[256],[0,256])\n",
    "plt.plot(hist)"
   ]
  },
  {
   "cell_type": "code",
   "execution_count": null,
   "id": "cf457279",
   "metadata": {},
   "outputs": [],
   "source": [
    "cv2.imshow('img',img)\n",
    "cv2.imshow('b',b)\n",
    "cv2.imshow('g',g)\n",
    "cv2.imshow('r',r)"
   ]
  },
  {
   "cell_type": "code",
   "execution_count": null,
   "id": "99846da6",
   "metadata": {},
   "outputs": [],
   "source": [
    "plt.hist(img.ravel(),256,[0,256])\n",
    "plt.show()\n",
    "cv2.waitKey(0)\n",
    "cv2.destroyAllWindows()"
   ]
  },
  {
   "cell_type": "code",
   "execution_count": null,
   "id": "4be732ca",
   "metadata": {},
   "outputs": [],
   "source": []
  }
 ],
 "metadata": {
  "kernelspec": {
   "display_name": "Python 3 (ipykernel)",
   "language": "python",
   "name": "python3"
  },
  "language_info": {
   "codemirror_mode": {
    "name": "ipython",
    "version": 3
   },
   "file_extension": ".py",
   "mimetype": "text/x-python",
   "name": "python",
   "nbconvert_exporter": "python",
   "pygments_lexer": "ipython3",
   "version": "3.10.2"
  }
 },
 "nbformat": 4,
 "nbformat_minor": 5
}
