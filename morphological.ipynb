{
 "cells": [
  {
   "cell_type": "code",
   "execution_count": 1,
   "id": "c84e1152",
   "metadata": {},
   "outputs": [],
   "source": [
    "import cv2 as cv\n",
    "import numpy as np"
   ]
  },
  {
   "cell_type": "code",
   "execution_count": 2,
   "id": "7482d171",
   "metadata": {},
   "outputs": [],
   "source": [
    "img=cv.imread('for dilation,erosion.png')"
   ]
  },
  {
   "cell_type": "code",
   "execution_count": 3,
   "id": "15f94f18",
   "metadata": {},
   "outputs": [],
   "source": [
    "cv.imshow('Image',img)\n",
    "#erosion\n",
    "kernel=np.ones((5,5),dtype='uint8')\n",
    "\n",
    "img_eroded=cv.erode(img,kernel,iterations=1)\n",
    "\n",
    "cv.imshow('img eroded',img_eroded)\n",
    "cv.waitKey(0)\n",
    "cv.destroyAllWindows()"
   ]
  },
  {
   "cell_type": "code",
   "execution_count": 4,
   "id": "94c25da0",
   "metadata": {},
   "outputs": [],
   "source": [
    "cv.imshow('Image',img)\n",
    "#dilation\n",
    "\n",
    "img_dilated=cv.dilate(img,kernel,iterations=1)\n",
    "\n",
    "cv.imshow('img_dilated',img_dilated)\n",
    "cv.waitKey(0)\n",
    "cv.destroyAllWindows()"
   ]
  },
  {
   "cell_type": "code",
   "execution_count": 5,
   "id": "c1466850",
   "metadata": {},
   "outputs": [],
   "source": [
    "img2 = cv.imread('for_opening.png')\n",
    "cv.imshow('Image',img2)\n",
    "#opening\n",
    "\n",
    "img_opening=cv.morphologyEx(img2,cv.MORPH_OPEN,kernel)#erosion then dilation\n",
    "\n",
    "cv.imshow('img_opening',img_opening)\n",
    "cv.waitKey(0)\n",
    "cv.destroyAllWindows()"
   ]
  },
  {
   "cell_type": "code",
   "execution_count": 6,
   "id": "9c01d82b",
   "metadata": {},
   "outputs": [],
   "source": [
    "img3 = cv.imread('for closing.png')\n",
    "cv.imshow('Image',img3)\n",
    "#closing\n",
    "\n",
    "img_closing=cv.morphologyEx(img,cv.MORPH_CLOSE,kernel)\n",
    "\n",
    "cv.imshow('img_closing',img_closing)\n",
    "cv.waitKey(0)\n",
    "cv.destroyAllWindows()"
   ]
  },
  {
   "cell_type": "code",
   "execution_count": null,
   "id": "38507be7",
   "metadata": {},
   "outputs": [],
   "source": []
  }
 ],
 "metadata": {
  "kernelspec": {
   "display_name": "Python 3 (ipykernel)",
   "language": "python",
   "name": "python3"
  },
  "language_info": {
   "codemirror_mode": {
    "name": "ipython",
    "version": 3
   },
   "file_extension": ".py",
   "mimetype": "text/x-python",
   "name": "python",
   "nbconvert_exporter": "python",
   "pygments_lexer": "ipython3",
   "version": "3.10.2"
  },
  "varInspector": {
   "cols": {
    "lenName": 16,
    "lenType": 16,
    "lenVar": 40
   },
   "kernels_config": {
    "python": {
     "delete_cmd_postfix": "",
     "delete_cmd_prefix": "del ",
     "library": "var_list.py",
     "varRefreshCmd": "print(var_dic_list())"
    },
    "r": {
     "delete_cmd_postfix": ") ",
     "delete_cmd_prefix": "rm(",
     "library": "var_list.r",
     "varRefreshCmd": "cat(var_dic_list()) "
    }
   },
   "types_to_exclude": [
    "module",
    "function",
    "builtin_function_or_method",
    "instance",
    "_Feature"
   ],
   "window_display": false
  }
 },
 "nbformat": 4,
 "nbformat_minor": 5
}
