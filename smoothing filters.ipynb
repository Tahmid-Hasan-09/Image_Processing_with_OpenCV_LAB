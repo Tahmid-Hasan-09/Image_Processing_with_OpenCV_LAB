{
 "cells": [
  {
   "cell_type": "code",
   "execution_count": 1,
   "id": "8c77dae4",
   "metadata": {},
   "outputs": [],
   "source": [
    "import cv2\n",
    "import numpy as np\n",
    "from matplotlib import pyplot as plt"
   ]
  },
  {
   "cell_type": "code",
   "execution_count": 4,
   "id": "ff4ce55e",
   "metadata": {},
   "outputs": [],
   "source": [
    "img=cv2.imread('./images/flemingo.jpg')"
   ]
  },
  {
   "cell_type": "code",
   "execution_count": 10,
   "id": "57d935a0",
   "metadata": {},
   "outputs": [],
   "source": [
    "#gaussian blur\n",
    "\n",
    "blur_gauss_img3=cv2.GaussianBlur(img,(7,7),0)\n",
    "\n",
    "cv2.imshow('gaussian blur',blur_gauss_img3)\n",
    "cv2.waitKey(0)\n",
    "cv2.destroyAllWindows()"
   ]
  },
  {
   "cell_type": "code",
   "execution_count": 12,
   "id": "ee4fc2e7",
   "metadata": {},
   "outputs": [],
   "source": [
    "#average blur\n",
    "\n",
    "blur_img3=cv2.blur(img,(5,5))\n",
    "\n",
    "cv2.imshow('average blur',blur_img3)\n",
    "cv2.waitKey(0)\n",
    "cv2.destroyAllWindows()"
   ]
  },
  {
   "cell_type": "code",
   "execution_count": 14,
   "id": "4ac44aaf",
   "metadata": {},
   "outputs": [],
   "source": [
    "#median blur(salt-pepper noise reduction)\n",
    "\n",
    "blur_median_img3=cv2.medianBlur(img,9)\n",
    "\n",
    "cv2.imshow('median blur',blur_median_img3)\n",
    "cv2.waitKey(0)\n",
    "cv2.destroyAllWindows()"
   ]
  },
  {
   "cell_type": "code",
   "execution_count": null,
   "id": "95fc6253",
   "metadata": {},
   "outputs": [],
   "source": []
  }
 ],
 "metadata": {
  "kernelspec": {
   "display_name": "Python 3 (ipykernel)",
   "language": "python",
   "name": "python3"
  },
  "language_info": {
   "codemirror_mode": {
    "name": "ipython",
    "version": 3
   },
   "file_extension": ".py",
   "mimetype": "text/x-python",
   "name": "python",
   "nbconvert_exporter": "python",
   "pygments_lexer": "ipython3",
   "version": "3.10.2"
  }
 },
 "nbformat": 4,
 "nbformat_minor": 5
}
